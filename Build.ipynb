{
 "metadata": {
  "kernelspec": {
   "codemirror_mode": {
    "name": "ipython",
    "version": 2
   },
   "display_name": "IPython (Python 2)",
   "language": "python",
   "name": "python2"
  },
  "name": "",
  "signature": "sha256:81590fa37ffc5ea52cbc60a3fa18b2cc6e303953618f634c8e9856c8fa5041ad"
 },
 "nbformat": 3,
 "nbformat_minor": 0,
 "worksheets": [
  {
   "cells": [
    {
     "cell_type": "code",
     "collapsed": false,
     "input": [
      "def versions():\n",
      "    !jade --version\n",
      "    !less --version\n",
      "    !coffee --version"
     ],
     "language": "python",
     "metadata": {},
     "outputs": [],
     "prompt_number": 119
    },
    {
     "cell_type": "code",
     "collapsed": false,
     "input": [
      "def coffee():\n",
      "    !coffee -o ipcad/static/ipcad/js --compile ipcad/static/coffee/CADView.coffee\n",
      "    !coffee -o ipcad/static/ipcad/js --compile ipcad/static/coffee/CADViewFrame.coffee"
     ],
     "language": "python",
     "metadata": {},
     "outputs": [],
     "prompt_number": 120
    },
    {
     "cell_type": "code",
     "collapsed": false,
     "input": [
      "def jade():\n",
      "    !jade -o ipcad/static/ipcad ipcad/static --pretty"
     ],
     "language": "python",
     "metadata": {},
     "outputs": [],
     "prompt_number": 121
    },
    {
     "cell_type": "code",
     "collapsed": false,
     "input": [
      "def less():\n",
      "    !lessc ipcad/static/less/CADView.less ipcad/static/ipcad/css/CADView.css\n",
      "    !lessc ipcad/static/less/CADViewFrame.less ipcad/static/ipcad/css/CADViewFrame.css"
     ],
     "language": "python",
     "metadata": {},
     "outputs": [],
     "prompt_number": 122
    },
    {
     "cell_type": "code",
     "collapsed": false,
     "input": [
      "def assets():\n",
      "    !cp -r ipcad/static/lib/cad/public/images ipcad/static/ipcad/\n",
      "    !cp -r ipcad/static/lib/cad/public/javascript/ ipcad/static/ipcad/js"
     ],
     "language": "python",
     "metadata": {},
     "outputs": [],
     "prompt_number": 123
    },
    {
     "cell_type": "code",
     "collapsed": false,
     "input": [
      "coffee()\n",
      "jade()\n",
      "less()\n",
      "assets()"
     ],
     "language": "python",
     "metadata": {},
     "outputs": [
      {
       "output_type": "stream",
       "stream": "stdout",
       "text": [
        "\n",
        "  \u001b[90mrendered \u001b[36mipcad/static/ipcad/CADViewFrame.html\u001b[0m\n",
        "\n"
       ]
      }
     ],
     "prompt_number": 141
    },
    {
     "cell_type": "code",
     "collapsed": false,
     "input": [],
     "language": "python",
     "metadata": {},
     "outputs": [],
     "prompt_number": 124
    }
   ],
   "metadata": {}
  }
 ]
}