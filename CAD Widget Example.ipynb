{
 "metadata": {
  "kernelspec": {
   "codemirror_mode": {
    "name": "ipython",
    "version": 2
   },
   "display_name": "IPython (Python 2)",
   "language": "python",
   "name": "python2"
  },
  "name": "",
  "signature": "sha256:88e55851622d7b1b81fef415bc08d175d15f752556742096fc0dda19c3b40aac"
 },
 "nbformat": 3,
 "nbformat_minor": 0,
 "worksheets": [
  {
   "cells": [
    {
     "cell_type": "markdown",
     "metadata": {},
     "source": [
      "# Widget: CAD"
     ]
    },
    {
     "cell_type": "markdown",
     "metadata": {},
     "source": [
      "> <i class=\"fa fa-info-circle fa-2x text-primary\"></i> Execute each of these cells in order, such as with <label class=\"label label-default\">Shift+Enter</label>"
     ]
    },
    {
     "cell_type": "markdown",
     "metadata": {},
     "source": [
      "First, load `CAD` from your module:"
     ]
    },
    {
     "cell_type": "code",
     "collapsed": false,
     "input": [
      "from ipcad.widgets import CAD"
     ],
     "language": "python",
     "metadata": {},
     "outputs": [],
     "prompt_number": 16
    },
    {
     "cell_type": "markdown",
     "metadata": {},
     "source": [
      "Then, create an instance of `CAD`:"
     ]
    },
    {
     "cell_type": "code",
     "collapsed": false,
     "input": [
      "cadExample = CAD()"
     ],
     "language": "python",
     "metadata": {},
     "outputs": [
      {
       "output_type": "stream",
       "stream": "stdout",
       "text": [
        "copying /Users/weg/Documents/projects/ip-cad/ipcad/static/ipcad/CADViewFrame.html -> /Users/weg/.ipython/nbextensions/ipcad/CADViewFrame.html\n",
        "copying /Users/weg/Documents/projects/ip-cad/ipcad/static/ipcad/css/CADView.css -> /Users/weg/.ipython/nbextensions/ipcad/css/CADView.css\n",
        "copying /Users/weg/Documents/projects/ip-cad/ipcad/static/ipcad/css/CADViewFrame.css -> /Users/weg/.ipython/nbextensions/ipcad/css/CADViewFrame.css\n",
        "copying /Users/weg/Documents/projects/ip-cad/ipcad/static/ipcad/images/expander.svg -> /Users/weg/.ipython/nbextensions/ipcad/images/expander.svg\n",
        "copying /Users/weg/Documents/projects/ip-cad/ipcad/static/ipcad/images/minimize.svg -> /Users/weg/.ipython/nbextensions/ipcad/images/minimize.svg\n",
        "copying /Users/weg/Documents/projects/ip-cad/ipcad/static/ipcad/js/annotation.js -> /Users/weg/.ipython/nbextensions/ipcad/js/annotation.js\n",
        "copying /Users/weg/Documents/projects/ip-cad/ipcad/static/ipcad/js/assembly.js -> /Users/weg/.ipython/nbextensions/ipcad/js/assembly.js\n",
        "copying /Users/weg/Documents/projects/ip-cad/ipcad/static/ipcad/js/build.js -> /Users/weg/.ipython/nbextensions/ipcad/js/build.js\n",
        "copying /Users/weg/Documents/projects/ip-cad/ipcad/static/ipcad/js/CAD.js -> /Users/weg/.ipython/nbextensions/ipcad/js/CAD.js\n",
        "copying /Users/weg/Documents/projects/ip-cad/ipcad/static/ipcad/js/CADView.js -> /Users/weg/.ipython/nbextensions/ipcad/js/CADView.js\n",
        "copying /Users/weg/Documents/projects/ip-cad/ipcad/static/ipcad/js/CADViewFrame.js -> /Users/weg/.ipython/nbextensions/ipcad/js/CADViewFrame.js\n",
        "copying /Users/weg/Documents/projects/ip-cad/ipcad/static/ipcad/js/compass.js -> /Users/weg/.ipython/nbextensions/ipcad/js/compass.js\n",
        "copying /Users/weg/Documents/projects/ip-cad/ipcad/static/ipcad/js/data_loader.js -> /Users/weg/.ipython/nbextensions/ipcad/js/data_loader.js\n",
        "copying /Users/weg/Documents/projects/ip-cad/ipcad/static/ipcad/js/main.js -> /Users/weg/.ipython/nbextensions/ipcad/js/main.js\n",
        "copying /Users/weg/Documents/projects/ip-cad/ipcad/static/ipcad/js/product.js -> /Users/weg/.ipython/nbextensions/ipcad/js/product.js\n",
        "copying /Users/weg/Documents/projects/ip-cad/ipcad/static/ipcad/js/shape.js -> /Users/weg/.ipython/nbextensions/ipcad/js/shape.js\n",
        "copying /Users/weg/Documents/projects/ip-cad/ipcad/static/ipcad/js/shell.js -> /Users/weg/.ipython/nbextensions/ipcad/js/shell.js\n",
        "copying /Users/weg/Documents/projects/ip-cad/ipcad/static/ipcad/js/text.js -> /Users/weg/.ipython/nbextensions/ipcad/js/text.js\n",
        "copying /Users/weg/Documents/projects/ip-cad/ipcad/static/ipcad/js/viewer.js -> /Users/weg/.ipython/nbextensions/ipcad/js/viewer.js\n",
        "copying /Users/weg/Documents/projects/ip-cad/ipcad/static/ipcad/js/viewer_controls.js -> /Users/weg/.ipython/nbextensions/ipcad/js/viewer_controls.js\n",
        "copying /Users/weg/Documents/projects/ip-cad/ipcad/static/ipcad/js/webworker.js -> /Users/weg/.ipython/nbextensions/ipcad/js/webworker.js\n",
        "copying /Users/weg/Documents/projects/ip-cad/ipcad/static/ipcad/js/libs/bigscreen.min.js -> /Users/weg/.ipython/nbextensions/ipcad/js/libs/bigscreen.min.js\n",
        "copying /Users/weg/Documents/projects/ip-cad/ipcad/static/ipcad/js/libs/dat.gui.min.js -> /Users/weg/.ipython/nbextensions/ipcad/js/libs/dat.gui.min.js\n",
        "copying /Users/weg/Documents/projects/ip-cad/ipcad/static/ipcad/js/libs/jquery-ui.min.js -> /Users/weg/.ipython/nbextensions/ipcad/js/libs/jquery-ui.min.js\n",
        "copying /Users/weg/Documents/projects/ip-cad/ipcad/static/ipcad/js/libs/jquery.min.js -> /Users/weg/.ipython/nbextensions/ipcad/js/libs/jquery.min.js\n",
        "copying /Users/weg/Documents/projects/ip-cad/ipcad/static/ipcad/js/libs/jstree.min.js -> /Users/weg/.ipython/nbextensions/ipcad/js/libs/jstree.min.js\n",
        "copying /Users/weg/Documents/projects/ip-cad/ipcad/static/ipcad/js/libs/n-progress-ring.js -> /Users/weg/.ipython/nbextensions/ipcad/js/libs/n-progress-ring.js\n",
        "copying /Users/weg/Documents/projects/ip-cad/ipcad/static/ipcad/js/libs/require.min.js -> /Users/weg/.ipython/nbextensions/ipcad/js/libs/require.min.js\n",
        "copying /Users/weg/Documents/projects/ip-cad/ipcad/static/ipcad/js/libs/three.min.js -> /Users/weg/.ipython/nbextensions/ipcad/js/libs/three.min.js\n",
        "copying /Users/weg/Documents/projects/ip-cad/ipcad/static/ipcad/js/libs/TrackballControls.js -> /Users/weg/.ipython/nbextensions/ipcad/js/libs/TrackballControls.js\n",
        "copying /Users/weg/Documents/projects/ip-cad/ipcad/static/ipcad/js/libs/underscore-min.js -> /Users/weg/.ipython/nbextensions/ipcad/js/libs/underscore-min.js\n",
        "copying /Users/weg/Documents/projects/ip-cad/ipcad/static/ipcad/js/libs/visualize.js -> /Users/weg/.ipython/nbextensions/ipcad/js/libs/visualize.js\n",
        "copying /Users/weg/Documents/projects/ip-cad/ipcad/static/ipcad/js/libs/threejs/CopyShader.js -> /Users/weg/.ipython/nbextensions/ipcad/js/libs/threejs/CopyShader.js\n",
        "copying /Users/weg/Documents/projects/ip-cad/ipcad/static/ipcad/js/libs/threejs/EffectComposer.js -> /Users/weg/.ipython/nbextensions/ipcad/js/libs/threejs/EffectComposer.js\n",
        "copying /Users/weg/Documents/projects/ip-cad/ipcad/static/ipcad/js/libs/threejs/FXAAShader.js -> /Users/weg/.ipython/nbextensions/ipcad/js/libs/threejs/FXAAShader.js\n",
        "copying /Users/weg/Documents/projects/ip-cad/ipcad/static/ipcad/js/libs/threejs/MaskPass.js -> /Users/weg/.ipython/nbextensions/ipcad/js/libs/threejs/MaskPass.js\n",
        "copying /Users/weg/Documents/projects/ip-cad/ipcad/static/ipcad/js/libs/threejs/RenderPass.js -> /Users/weg/.ipython/nbextensions/ipcad/js/libs/threejs/RenderPass.js\n",
        "copying /Users/weg/Documents/projects/ip-cad/ipcad/static/ipcad/js/libs/threejs/ShaderPass.js -> /Users/weg/.ipython/nbextensions/ipcad/js/libs/threejs/ShaderPass.js\n",
        "copying /Users/weg/Documents/projects/ip-cad/ipcad/static/ipcad/js/libs/threejs/SSAOShader.js -> /Users/weg/.ipython/nbextensions/ipcad/js/libs/threejs/SSAOShader.js\n",
        "copying /Users/weg/Documents/projects/ip-cad/ipcad/static/ipcad/js/shaders/VelvetyShader-fragment.glsl -> /Users/weg/.ipython/nbextensions/ipcad/js/shaders/VelvetyShader-fragment.glsl\n",
        "copying /Users/weg/Documents/projects/ip-cad/ipcad/static/ipcad/js/shaders/VelvetyShader-vertex.glsl -> /Users/weg/.ipython/nbextensions/ipcad/js/shaders/VelvetyShader-vertex.glsl\n",
        "copying /Users/weg/Documents/projects/ip-cad/ipcad/static/ipcad/js/shaders/VelvetyShader.js -> /Users/weg/.ipython/nbextensions/ipcad/js/shaders/VelvetyShader.js\n",
        "copying /Users/weg/Documents/projects/ip-cad/ipcad/static/ipcad/js/templates/compass_dom.html -> /Users/weg/.ipython/nbextensions/ipcad/js/templates/compass_dom.html\n"
       ]
      },
      {
       "javascript": [
        "$(\"head\").append($(\"<link/>\").attr({\n",
        "  rel:  \"stylesheet\",\n",
        "  type: \"text/css\",\n",
        "  href: \"/nbextensions/ipcad/css/CADView.css\"\n",
        "}));\n",
        "IPython.load_extensions(\"ipcad/js/CADView\");"
       ],
       "metadata": {},
       "output_type": "display_data",
       "text": [
        "<IPython.core.display.Javascript object>"
       ]
      }
     ],
     "prompt_number": 17
    },
    {
     "cell_type": "markdown",
     "metadata": {},
     "source": [
      "Display the widget:"
     ]
    },
    {
     "cell_type": "code",
     "collapsed": false,
     "input": [
      "cadExample"
     ],
     "language": "python",
     "metadata": {},
     "outputs": [],
     "prompt_number": 19
    },
    {
     "cell_type": "markdown",
     "metadata": {},
     "source": [
      "> <i class=\"fa fa-image fa-2x\"></i> You should see a little text box with some controls in it."
     ]
    },
    {
     "cell_type": "markdown",
     "metadata": {},
     "source": [
      "Now, you can update the `value`:"
     ]
    },
    {
     "cell_type": "code",
     "collapsed": false,
     "input": [
      "cadExample.value = '2014-09-11'"
     ],
     "language": "python",
     "metadata": {},
     "outputs": [],
     "prompt_number": 25
    },
    {
     "cell_type": "markdown",
     "metadata": {},
     "source": [
      "> <i class=\"icon icon-picture icon-2x\"></i> You should see the date change."
     ]
    },
    {
     "cell_type": "markdown",
     "metadata": {},
     "source": [
      "You can have more than one copy of your `CAD`, and changes to one will be reflected in both"
     ]
    },
    {
     "cell_type": "code",
     "collapsed": false,
     "input": [
      "cadExample"
     ],
     "language": "python",
     "metadata": {},
     "outputs": [],
     "prompt_number": 26
    }
   ],
   "metadata": {}
  }
 ]
}