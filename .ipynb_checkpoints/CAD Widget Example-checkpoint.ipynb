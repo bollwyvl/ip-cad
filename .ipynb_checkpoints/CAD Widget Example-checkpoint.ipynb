{
 "metadata": {
  "name": "",
  "signature": "sha256:e9bbf5794a20975002e4d5c59e4ff58dc550dd12f45431393cdf1b13fa2eb078"
 },
 "nbformat": 3,
 "nbformat_minor": 0,
 "worksheets": [
  {
   "cells": [
    {
     "cell_type": "markdown",
     "metadata": {},
     "source": [
      "# Widget: CAD"
     ]
    },
    {
     "cell_type": "markdown",
     "metadata": {},
     "source": [
      "> <i class=\"fa fa-info-circle fa-2x text-primary\"></i> Execute each of these cells in order, such as with <label class=\"label label-default\">Shift+Enter</label>"
     ]
    },
    {
     "cell_type": "markdown",
     "metadata": {},
     "source": [
      "First, load `CAD` from your module:"
     ]
    },
    {
     "cell_type": "code",
     "collapsed": false,
     "input": [
      "from ipcad.widgets import CAD"
     ],
     "language": "python",
     "metadata": {},
     "outputs": []
    },
    {
     "cell_type": "markdown",
     "metadata": {},
     "source": [
      "Then, create an instance of `CAD`:"
     ]
    },
    {
     "cell_type": "code",
     "collapsed": false,
     "input": [
      "cadExample = CAD()"
     ],
     "language": "python",
     "metadata": {},
     "outputs": []
    },
    {
     "cell_type": "markdown",
     "metadata": {},
     "source": [
      "Display the widget:"
     ]
    },
    {
     "cell_type": "code",
     "collapsed": false,
     "input": [
      "cadExample"
     ],
     "language": "python",
     "metadata": {},
     "outputs": []
    },
    {
     "cell_type": "markdown",
     "metadata": {},
     "source": [
      "> <i class=\"fa fa-image fa-2x\"></i> You should see a little text box with some controls in it."
     ]
    },
    {
     "cell_type": "markdown",
     "metadata": {},
     "source": [
      "Now, you can update the `value`:"
     ]
    },
    {
     "cell_type": "code",
     "collapsed": false,
     "input": [
      "cadExample.value = '2014-09-11'"
     ],
     "language": "python",
     "metadata": {},
     "outputs": []
    },
    {
     "cell_type": "markdown",
     "metadata": {},
     "source": [
      "> <i class=\"icon icon-picture icon-2x\"></i> You should see the date change."
     ]
    },
    {
     "cell_type": "markdown",
     "metadata": {},
     "source": [
      "You can have more than one copy of your `CAD`, and changes to one will be reflected in both"
     ]
    },
    {
     "cell_type": "code",
     "collapsed": false,
     "input": [
      "cadExample"
     ],
     "language": "python",
     "metadata": {},
     "outputs": []
    }
   ],
   "metadata": {}
  }
 ]
}